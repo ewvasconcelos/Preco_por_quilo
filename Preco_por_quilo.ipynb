{
  "nbformat": 4,
  "nbformat_minor": 0,
  "metadata": {
    "colab": {
      "provenance": [],
      "toc_visible": true,
      "authorship_tag": "ABX9TyNgS5J4ebGzX7Fo1ultc0Mn",
      "include_colab_link": true
    },
    "kernelspec": {
      "name": "python3",
      "display_name": "Python 3"
    },
    "language_info": {
      "name": "python"
    }
  },
  "cells": [
    {
      "cell_type": "markdown",
      "metadata": {
        "id": "view-in-github",
        "colab_type": "text"
      },
      "source": [
        "<a href=\"https://colab.research.google.com/github/ewvasconcelos/Preco_por_quilo/blob/main/Preco_por_quilo.ipynb\" target=\"_parent\"><img src=\"https://colab.research.google.com/assets/colab-badge.svg\" alt=\"Open In Colab\"/></a>"
      ]
    },
    {
      "cell_type": "code",
      "execution_count": 1,
      "metadata": {
        "colab": {
          "base_uri": "https://localhost:8080/"
        },
        "id": "7vaF1aJ-joAZ",
        "outputId": "9fae72ec-bf63-4118-905f-fa35c10e44ef"
      },
      "outputs": [
        {
          "output_type": "stream",
          "name": "stdout",
          "text": [
            "\u001b[2K     \u001b[90m━━━━━━━━━━━━━━━━━━━━━━━━━━━━━━━━━━━━━━━━\u001b[0m \u001b[32m150.7/150.7 kB\u001b[0m \u001b[31m1.2 MB/s\u001b[0m eta \u001b[36m0:00:00\u001b[0m\n",
            "\u001b[2K     \u001b[90m━━━━━━━━━━━━━━━━━━━━━━━━━━━━━━━━━━━━━━━━\u001b[0m \u001b[32m679.1/679.1 kB\u001b[0m \u001b[31m6.9 MB/s\u001b[0m eta \u001b[36m0:00:00\u001b[0m\n",
            "\u001b[?25h"
          ]
        }
      ],
      "source": [
        "#Instalando o SDK do Google\n",
        "!pip install -q -U google-generativeai"
      ]
    },
    {
      "cell_type": "code",
      "source": [
        "#Importando as bibliotecas necessárias\n",
        "from pathlib import Path\n",
        "import hashlib\n",
        "import google.generativeai as genai\n",
        "\n",
        "from google.colab import userdata"
      ],
      "metadata": {
        "id": "mpWpxSjpjpPQ"
      },
      "execution_count": 2,
      "outputs": []
    },
    {
      "cell_type": "code",
      "source": [
        "#Configurando o modelo\n",
        "api_key = userdata.get('SECRET_KEY')\n",
        "genai.configure(api_key=api_key)\n",
        "\n",
        "generation_config = {\n",
        "  \"temperature\": 1,\n",
        "  \"top_p\": 0.95,\n",
        "  \"top_k\": 0,\n",
        "}\n",
        "\n",
        "safety_settings = [\n",
        "  {\n",
        "    \"category\": \"HARM_CATEGORY_HARASSMENT\",\n",
        "    \"threshold\": \"BLOCK_NONE\"\n",
        "  },\n",
        "  {\n",
        "    \"category\": \"HARM_CATEGORY_HATE_SPEECH\",\n",
        "    \"threshold\": \"BLOCK_NONE\"\n",
        "  },\n",
        "  {\n",
        "    \"category\": \"HARM_CATEGORY_SEXUALLY_EXPLICIT\",\n",
        "    \"threshold\": \"BLOCK_NONE\"\n",
        "  },\n",
        "  {\n",
        "    \"category\": \"HARM_CATEGORY_DANGEROUS_CONTENT\",\n",
        "    \"threshold\": \"BLOCK_NONE\"\n",
        "  },\n",
        "]"
      ],
      "metadata": {
        "id": "nCJEN-jAjr0Y"
      },
      "execution_count": 3,
      "outputs": []
    },
    {
      "cell_type": "code",
      "source": [
        "system_instruction = \"Você é um Especialista em comparação de preços de produtos por quilo.\"\n",
        "\n",
        "jarbas = genai.GenerativeModel(model_name=\"gemini-1.5-pro-latest\",\n",
        "                              generation_config=generation_config,\n",
        "                              system_instruction=system_instruction,\n",
        "                              safety_settings=safety_settings)"
      ],
      "metadata": {
        "id": "0fV8PLijj23w"
      },
      "execution_count": 18,
      "outputs": []
    },
    {
      "cell_type": "code",
      "source": [
        "#Usando o modelo\n",
        "chat = jarbas.start_chat(history=[])\n",
        "\n",
        "while True:\n",
        "  # Solicita os dados para o primeiro produto\n",
        "  nome1 = input(\"Informe a descrição do PRODUTO 1: \")\n",
        "  quantidade1 = input(\"Informe a quantidade em g/ml do PRODUTO 1: \")\n",
        "  preco1 = float(input(\"Informe o preço do PRODUTO 1: \"))\n",
        "\n",
        "  # Solicita os dados para o segundo produto\n",
        "  nome2 = input(\"Informe a descrição do PRODUTO 2: \")\n",
        "  quantidade2 = input(\"Informe a quantidade em g/ml do PRODUTO 2: \")\n",
        "  preco2 = float(input(\"Informe o preço do PRODUTO 2: \"))\n",
        "\n",
        "  # Converte a quantidade para float e remove 'g' ou 'ml'\n",
        "  quantidade1 = float(quantidade1.replace(\"g\", \"\").replace(\"ml\", \"\"))\n",
        "  quantidade2 = float(quantidade2.replace(\"g\", \"\").replace(\"ml\", \"\"))\n",
        "\n",
        "  # Calcula o preço por quilo\n",
        "  preco_por_quilo1 = (preco1 * 1000) / quantidade1\n",
        "  preco_por_quilo2 = (preco2 * 1000) / quantidade2\n",
        "\n",
        "  # Compara os preços por quilo\n",
        "  if preco_por_quilo1 < preco_por_quilo2:\n",
        "    melhor_opcao = f\"{nome1} é a melhor opção, com preço por quilo de R$ {preco_por_quilo1:.2f}\"\n",
        "  elif preco_por_quilo2 < preco_por_quilo1:\n",
        "    melhor_opcao = f\"{nome2} é a melhor opção, com preço por quilo de R$ {preco_por_quilo2:.2f}\"\n",
        "  else:\n",
        "    melhor_opcao = \"Os produtos têm o mesmo preço por quilo.\"\n",
        "\n",
        "  # Monta o prompt para o modelo\n",
        "  prompt = [f\"Compare os produtos {nome1} e {nome2}. O {nome1} custa R$ {preco1} por {quantidade1} g/ml e o {nome2} custa R$ {preco2} por {quantidade2} g/ml. Qual é a melhor opção considerando o custo benefício? Responda informando apenas o preço por quilo de cada produto e qual o percentual economizado\", melhor_opcao]\n",
        "  response = chat.send_message(prompt)\n",
        "\n",
        "  # Imprime o histórico de mensagens\n",
        "  import textwrap\n",
        "  from IPython.display import display\n",
        "  from IPython.display import Markdown\n",
        "\n",
        "  def to_markdown(text):\n",
        "    text = text.replace('•', '  *')\n",
        "    return Markdown(textwrap.indent(text, '> ', predicate=lambda _: True))\n",
        "\n",
        "  for message in chat.history:\n",
        "    display(to_markdown(f'**{message.role}**: {message.parts[0].text}'))\n",
        "    print('-------------------------------------------')\n",
        "\n",
        "  # Encerra o loop após a comparação\n",
        "\n",
        "  break"
      ],
      "metadata": {
        "colab": {
          "base_uri": "https://localhost:8080/",
          "height": 295
        },
        "id": "t2eOWwFEkBIn",
        "outputId": "56f6c6d0-cb1b-4220-8a7f-86a6df9942e9"
      },
      "execution_count": 19,
      "outputs": [
        {
          "name": "stdout",
          "output_type": "stream",
          "text": [
            "Informe a descrição do PRODUTO 1: azeite 250\n",
            "Informe a quantidade em g/ml do PRODUTO 1: 250\n",
            "Informe o preço do PRODUTO 1: 28\n",
            "Informe a descrição do PRODUTO 2: azeite 400\n",
            "Informe a quantidade em g/ml do PRODUTO 2: 400\n",
            "Informe o preço do PRODUTO 2: 38\n"
          ]
        },
        {
          "output_type": "display_data",
          "data": {
            "text/plain": [
              "<IPython.core.display.Markdown object>"
            ],
            "text/markdown": "> **user**: Compare os produtos azeite 250 e azeite 400. O azeite 250 custa R$ 28.0 por 250.0 g/ml e o azeite 400 custa R$ 38.0 por 400.0 g/ml. Qual é a melhor opção considerando o custo benefício? Responda informando apenas o preço por quilo de cada produto e qual o percentual economizado"
          },
          "metadata": {}
        },
        {
          "output_type": "stream",
          "name": "stdout",
          "text": [
            "-------------------------------------------\n"
          ]
        },
        {
          "output_type": "display_data",
          "data": {
            "text/plain": [
              "<IPython.core.display.Markdown object>"
            ],
            "text/markdown": "> **model**: Azeite 250: R$ 112.00 por kg\n> Azeite 400: R$ 95.00 por kg\n> \n> Você economiza 15.18% com o Azeite 400. \n"
          },
          "metadata": {}
        },
        {
          "output_type": "stream",
          "name": "stdout",
          "text": [
            "-------------------------------------------\n"
          ]
        }
      ]
    }
  ]
}