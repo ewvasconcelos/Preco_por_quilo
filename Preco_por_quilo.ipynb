{
  "nbformat": 4,
  "nbformat_minor": 0,
  "metadata": {
    "colab": {
      "provenance": [],
      "toc_visible": true,
      "authorship_tag": "ABX9TyPc/b+2UY9QczCN4ez+Rv8r",
      "include_colab_link": true
    },
    "kernelspec": {
      "name": "python3",
      "display_name": "Python 3"
    },
    "language_info": {
      "name": "python"
    }
  },
  "cells": [
    {
      "cell_type": "markdown",
      "metadata": {
        "id": "view-in-github",
        "colab_type": "text"
      },
      "source": [
        "<a href=\"https://colab.research.google.com/github/ewvasconcelos/Preco_por_quilo/blob/main/Preco_por_quilo.ipynb\" target=\"_parent\"><img src=\"https://colab.research.google.com/assets/colab-badge.svg\" alt=\"Open In Colab\"/></a>"
      ]
    },
    {
      "cell_type": "code",
      "execution_count": 8,
      "metadata": {
        "id": "7vaF1aJ-joAZ"
      },
      "outputs": [],
      "source": [
        "#Instalando o SDK do Google\n",
        "!pip install -q -U google-generativeai"
      ]
    },
    {
      "cell_type": "code",
      "source": [
        "#Importando as bibliotecas necessárias\n",
        "from pathlib import Path\n",
        "import hashlib\n",
        "import google.generativeai as genai\n",
        "\n",
        "from google.colab import userdata"
      ],
      "metadata": {
        "id": "mpWpxSjpjpPQ"
      },
      "execution_count": 9,
      "outputs": []
    },
    {
      "cell_type": "code",
      "source": [
        "#Configurando o modelo\n",
        "api_key = userdata.get('SECRET_KEY')\n",
        "genai.configure(api_key=api_key)\n",
        "\n",
        "generation_config = {\n",
        "  \"temperature\": 1,\n",
        "  \"top_p\": 0.95,\n",
        "  \"top_k\": 0,\n",
        "}\n",
        "\n",
        "safety_settings = [\n",
        "  {\n",
        "    \"category\": \"HARM_CATEGORY_HARASSMENT\",\n",
        "    \"threshold\": \"BLOCK_NONE\"\n",
        "  },\n",
        "  {\n",
        "    \"category\": \"HARM_CATEGORY_HATE_SPEECH\",\n",
        "    \"threshold\": \"BLOCK_NONE\"\n",
        "  },\n",
        "  {\n",
        "    \"category\": \"HARM_CATEGORY_SEXUALLY_EXPLICIT\",\n",
        "    \"threshold\": \"BLOCK_NONE\"\n",
        "  },\n",
        "  {\n",
        "    \"category\": \"HARM_CATEGORY_DANGEROUS_CONTENT\",\n",
        "    \"threshold\": \"BLOCK_NONE\"\n",
        "  },\n",
        "]"
      ],
      "metadata": {
        "id": "nCJEN-jAjr0Y"
      },
      "execution_count": 10,
      "outputs": []
    },
    {
      "cell_type": "code",
      "source": [
        "system_instruction = \"Você é um Especialista em comparação de preços de produtos por quilo.\"\n",
        "\n",
        "model = genai.GenerativeModel(model_name=\"gemini-1.5-pro-latest\",\n",
        "                              generation_config=generation_config,\n",
        "                              system_instruction=system_instruction,\n",
        "                              safety_settings=safety_settings)"
      ],
      "metadata": {
        "id": "0fV8PLijj23w"
      },
      "execution_count": 11,
      "outputs": []
    },
    {
      "cell_type": "code",
      "source": [
        "#Usando o modelo\n",
        "chat = model.start_chat(history=[])\n",
        "\n",
        "while True:\n",
        "  # Solicita os dados para o primeiro produto\n",
        "  nome1 = input(\"Informe a descrição do PRODUTO 1: \")\n",
        "  quantidade1 = input(\"Informe a quantidade em g/ml do PRODUTO 1: \")\n",
        "  preco1 = float(input(\"Informe o preço do PRODUTO 1: \"))\n",
        "\n",
        "  # Solicita os dados para o segundo produto\n",
        "  nome2 = input(\"Informe a descrição do PRODUTO 2: \")\n",
        "  quantidade2 = input(\"Informe a quantidade em g/ml do PRODUTO 2: \")\n",
        "  preco2 = float(input(\"Informe o preço do PRODUTO 2: \"))\n",
        "\n",
        "  # Converte a quantidade para float e remove 'g' ou 'ml'\n",
        "  quantidade1 = float(quantidade1.replace(\"g\", \"\").replace(\"ml\", \"\"))\n",
        "  quantidade2 = float(quantidade2.replace(\"g\", \"\").replace(\"ml\", \"\"))\n",
        "\n",
        "  # Calcula o preço por quilo\n",
        "  preco_por_quilo1 = (preco1 * 1000) / quantidade1\n",
        "  preco_por_quilo2 = (preco2 * 1000) / quantidade2\n",
        "\n",
        "  # Compara os preços por quilo\n",
        "  if preco_por_quilo1 < preco_por_quilo2:\n",
        "    melhor_opcao = f\"{nome1} é a melhor opção, com preço por quilo de R$ {preco_por_quilo1:.2f}\"\n",
        "  elif preco_por_quilo2 < preco_por_quilo1:\n",
        "    melhor_opcao = f\"{nome2} é a melhor opção, com preço por quilo de R$ {preco_por_quilo2:.2f}\"\n",
        "  else:\n",
        "    melhor_opcao = \"Os produtos têm o mesmo preço por quilo.\"\n",
        "\n",
        "  # Monta o prompt para o modelo\n",
        "  prompt = [f\"Compare os produtos {nome1} e {nome2}. O {nome1} custa R$ {preco1} por {quantidade1} g/ml e o {nome2} custa R$ {preco2} por {quantidade2} g/ml. Qual é a melhor opção considerando o custo benefício? Responda informando apenas o preço por quilo de cada produto e qual o percentual economizado\", melhor_opcao]\n",
        "  response = chat.send_message(prompt)\n",
        "\n",
        "  # Imprime o histórico de mensagens\n",
        "  import textwrap\n",
        "  from IPython.display import display\n",
        "  from IPython.display import Markdown\n",
        "\n",
        "  def to_markdown(text):\n",
        "    text = text.replace('•', '  *')\n",
        "    return Markdown(textwrap.indent(text, '> ', predicate=lambda _: True))\n",
        "\n",
        "  for message in chat.history:\n",
        "    display(to_markdown(f'**{message.role}**: {message.parts[0].text}'))\n",
        "    print('-------------------------------------------')\n",
        "\n",
        "  # Encerra o loop após a comparação\n",
        "\n",
        "  break"
      ],
      "metadata": {
        "colab": {
          "base_uri": "https://localhost:8080/",
          "height": 326
        },
        "id": "t2eOWwFEkBIn",
        "outputId": "d4f9c37f-9bc2-4221-9b64-7143909ac0b8"
      },
      "execution_count": 12,
      "outputs": [
        {
          "name": "stdout",
          "output_type": "stream",
          "text": [
            "Informe a descrição do PRODUTO 1: Nescau 400\n",
            "Informe a quantidade em g/ml do PRODUTO 1: 400\n",
            "Informe o preço do PRODUTO 1: 15\n",
            "Informe a descrição do PRODUTO 2: Nescau 900\n",
            "Informe a quantidade em g/ml do PRODUTO 2: 900\n",
            "Informe o preço do PRODUTO 2: 25\n"
          ]
        },
        {
          "output_type": "display_data",
          "data": {
            "text/plain": [
              "<IPython.core.display.Markdown object>"
            ],
            "text/markdown": "> **user**: Compare os produtos Nescau 400 e Nescau 900. O Nescau 400 custa R$ 15.0 por 400.0 g/ml e o Nescau 900 custa R$ 25.0 por 900.0 g/ml. Qual é a melhor opção considerando o custo benefício? Responda informando apenas o preço por quilo de cada produto e qual o percentual economizado"
          },
          "metadata": {}
        },
        {
          "output_type": "stream",
          "name": "stdout",
          "text": [
            "-------------------------------------------\n"
          ]
        },
        {
          "output_type": "display_data",
          "data": {
            "text/plain": [
              "<IPython.core.display.Markdown object>"
            ],
            "text/markdown": "> **model**: ## Comparando Nescau 400g e Nescau 900g:\n> \n> **Nescau 400g:** R$ 37,50 por quilo. \n> **Nescau 900g:** R$ 27,78 por quilo.\n> \n> **Economia:** O Nescau 900g é **25,92%** mais barato por quilo do que o Nescau 400g. \n"
          },
          "metadata": {}
        },
        {
          "output_type": "stream",
          "name": "stdout",
          "text": [
            "-------------------------------------------\n"
          ]
        }
      ]
    }
  ]
}